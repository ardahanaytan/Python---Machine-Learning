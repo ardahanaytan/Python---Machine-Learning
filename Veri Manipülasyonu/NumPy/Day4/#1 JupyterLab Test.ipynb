{
 "cells": [
  {
   "cell_type": "code",
   "execution_count": 1,
   "id": "cf06d887-7a6d-4a62-bcd4-1ffc3c7c6987",
   "metadata": {
    "tags": []
   },
   "outputs": [
    {
     "name": "stdout",
     "output_type": "stream",
     "text": [
      "a\n"
     ]
    }
   ],
   "source": [
    "print('a')"
   ]
  },
  {
   "cell_type": "markdown",
   "id": "d099b91a-74c0-4141-9b9f-587b96a9a03f",
   "metadata": {},
   "source": [
    "Merhaba\n",
    "\n",
    "Herhangi baska seyler de yazilabilir"
   ]
  },
  {
   "cell_type": "code",
   "execution_count": 2,
   "id": "1789729f-fb51-4476-bae0-35eb8277b0c2",
   "metadata": {
    "tags": []
   },
   "outputs": [
    {
     "ename": "NameError",
     "evalue": "name 'Merhaba' is not defined",
     "output_type": "error",
     "traceback": [
      "\u001b[0;31m---------------------------------------------------------------------------\u001b[0m",
      "\u001b[0;31mNameError\u001b[0m                                 Traceback (most recent call last)",
      "Cell \u001b[0;32mIn[2], line 1\u001b[0m\n\u001b[0;32m----> 1\u001b[0m Merhaba\n",
      "\u001b[0;31mNameError\u001b[0m: name 'Merhaba' is not defined"
     ]
    }
   ],
   "source": [
    "Merhaba"
   ]
  },
  {
   "cell_type": "code",
   "execution_count": 3,
   "id": "a84cf75e-a830-43de-809f-0a76aa8f306d",
   "metadata": {
    "tags": []
   },
   "outputs": [
    {
     "data": {
      "text/plain": [
       "'a'"
      ]
     },
     "execution_count": 3,
     "metadata": {},
     "output_type": "execute_result"
    }
   ],
   "source": [
    "'a'"
   ]
  },
  {
   "cell_type": "code",
   "execution_count": null,
   "id": "781addab-1b55-442b-809d-ba5ca3364a9e",
   "metadata": {},
   "outputs": [],
   "source": []
  }
 ],
 "metadata": {
  "kernelspec": {
   "display_name": "Python 3 (ipykernel)",
   "language": "python",
   "name": "python3"
  },
  "language_info": {
   "codemirror_mode": {
    "name": "ipython",
    "version": 3
   },
   "file_extension": ".py",
   "mimetype": "text/x-python",
   "name": "python",
   "nbconvert_exporter": "python",
   "pygments_lexer": "ipython3",
   "version": "3.11.4"
  }
 },
 "nbformat": 4,
 "nbformat_minor": 5
}
