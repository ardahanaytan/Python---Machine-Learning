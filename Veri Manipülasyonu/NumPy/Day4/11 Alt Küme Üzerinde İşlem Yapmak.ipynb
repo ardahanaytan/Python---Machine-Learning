{
 "cells": [
  {
   "cell_type": "code",
   "execution_count": 2,
   "id": "657faed3-7d56-4848-840a-94b10860a061",
   "metadata": {
    "tags": []
   },
   "outputs": [
    {
     "data": {
      "text/plain": [
       "array([[7, 5, 1, 7, 2],\n",
       "       [0, 9, 0, 0, 9],\n",
       "       [3, 7, 2, 0, 7],\n",
       "       [9, 5, 9, 9, 0],\n",
       "       [2, 2, 0, 1, 9]])"
      ]
     },
     "execution_count": 2,
     "metadata": {},
     "output_type": "execute_result"
    }
   ],
   "source": [
    "import numpy as np\n",
    "a = np.random.randint(10, size=(5,5))\n",
    "a"
   ]
  },
  {
   "cell_type": "code",
   "execution_count": 3,
   "id": "90e4c94d-37c2-47fc-ba49-163307af080a",
   "metadata": {
    "tags": []
   },
   "outputs": [
    {
     "data": {
      "text/plain": [
       "array([[7, 5],\n",
       "       [0, 9],\n",
       "       [3, 7]])"
      ]
     },
     "execution_count": 3,
     "metadata": {},
     "output_type": "execute_result"
    }
   ],
   "source": [
    "alt_a = a[0:3, 0:2]\n",
    "alt_a"
   ]
  },
  {
   "cell_type": "code",
   "execution_count": 4,
   "id": "2545d08c-fd1a-485b-a2ab-3fbc6e835051",
   "metadata": {
    "tags": []
   },
   "outputs": [],
   "source": [
    "alt_a[0,0] = 99999\n",
    "alt_a[1,1] = 888"
   ]
  },
  {
   "cell_type": "code",
   "execution_count": 5,
   "id": "bd198181-dc82-49c0-9dbc-d2c57c475737",
   "metadata": {
    "tags": []
   },
   "outputs": [
    {
     "data": {
      "text/plain": [
       "array([[99999,     5],\n",
       "       [    0,   888],\n",
       "       [    3,     7]])"
      ]
     },
     "execution_count": 5,
     "metadata": {},
     "output_type": "execute_result"
    }
   ],
   "source": [
    "alt_a"
   ]
  },
  {
   "cell_type": "code",
   "execution_count": 6,
   "id": "76ab3fe2-15de-4dc0-8f1a-bcdc9de87a2a",
   "metadata": {
    "tags": []
   },
   "outputs": [
    {
     "data": {
      "text/plain": [
       "array([[99999,     5,     1,     7,     2],\n",
       "       [    0,   888,     0,     0,     9],\n",
       "       [    3,     7,     2,     0,     7],\n",
       "       [    9,     5,     9,     9,     0],\n",
       "       [    2,     2,     0,     1,     9]])"
      ]
     },
     "execution_count": 6,
     "metadata": {},
     "output_type": "execute_result"
    }
   ],
   "source": [
    "a"
   ]
  },
  {
   "cell_type": "code",
   "execution_count": 7,
   "id": "65ed72ac-0832-422e-986b-aa000f536edb",
   "metadata": {
    "tags": []
   },
   "outputs": [
    {
     "data": {
      "text/plain": [
       "array([[8, 9, 9, 4, 2],\n",
       "       [3, 9, 4, 4, 6],\n",
       "       [2, 3, 4, 5, 1],\n",
       "       [0, 2, 3, 0, 9],\n",
       "       [7, 1, 4, 5, 8]])"
      ]
     },
     "execution_count": 7,
     "metadata": {},
     "output_type": "execute_result"
    }
   ],
   "source": [
    "a = np.random.randint(10, size=(5,5))\n",
    "a"
   ]
  },
  {
   "cell_type": "code",
   "execution_count": 9,
   "id": "bd26df37-e88a-4e74-a77e-d59d17cdcdb9",
   "metadata": {
    "tags": []
   },
   "outputs": [
    {
     "data": {
      "text/plain": [
       "array([[8, 9],\n",
       "       [3, 9],\n",
       "       [2, 3]])"
      ]
     },
     "execution_count": 9,
     "metadata": {},
     "output_type": "execute_result"
    }
   ],
   "source": [
    "alt_b = a[0:3, 0:2].copy()\n",
    "alt_b"
   ]
  },
  {
   "cell_type": "code",
   "execution_count": 10,
   "id": "59abcff3-92e0-4e62-ab20-a4969fc1d043",
   "metadata": {
    "tags": []
   },
   "outputs": [
    {
     "data": {
      "text/plain": [
       "array([[9999,    9],\n",
       "       [   3,    9],\n",
       "       [   2,    3]])"
      ]
     },
     "execution_count": 10,
     "metadata": {},
     "output_type": "execute_result"
    }
   ],
   "source": [
    "alt_b[0,0] = 9999\n",
    "alt_b"
   ]
  },
  {
   "cell_type": "code",
   "execution_count": 11,
   "id": "aa4120c6-2412-41ff-b8bb-2c992e6846df",
   "metadata": {
    "tags": []
   },
   "outputs": [
    {
     "data": {
      "text/plain": [
       "array([[8, 9, 9, 4, 2],\n",
       "       [3, 9, 4, 4, 6],\n",
       "       [2, 3, 4, 5, 1],\n",
       "       [0, 2, 3, 0, 9],\n",
       "       [7, 1, 4, 5, 8]])"
      ]
     },
     "execution_count": 11,
     "metadata": {},
     "output_type": "execute_result"
    }
   ],
   "source": [
    "a"
   ]
  },
  {
   "cell_type": "code",
   "execution_count": null,
   "id": "2fc51fcc-4d69-423b-aad8-72fe95c9ea0d",
   "metadata": {},
   "outputs": [],
   "source": []
  }
 ],
 "metadata": {
  "kernelspec": {
   "display_name": "Python 3 (ipykernel)",
   "language": "python",
   "name": "python3"
  },
  "language_info": {
   "codemirror_mode": {
    "name": "ipython",
    "version": 3
   },
   "file_extension": ".py",
   "mimetype": "text/x-python",
   "name": "python",
   "nbconvert_exporter": "python",
   "pygments_lexer": "ipython3",
   "version": "3.11.4"
  }
 },
 "nbformat": 4,
 "nbformat_minor": 5
}
